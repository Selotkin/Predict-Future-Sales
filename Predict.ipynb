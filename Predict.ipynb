{
 "cells": [
  {
   "cell_type": "code",
   "execution_count": 1,
   "metadata": {},
   "outputs": [],
   "source": [
    "import pandas as pd"
   ]
  },
  {
   "cell_type": "code",
   "execution_count": 2,
   "metadata": {},
   "outputs": [],
   "source": [
    "data = pd.read_pickle('data.pkl')\n",
    "X_train = data[data.date_block_num < 33].drop(['item_cnt_month'], axis=1)\n",
    "Y_train = data[data.date_block_num < 33]['item_cnt_month']\n",
    "X_valid = data[data.date_block_num == 33].drop(['item_cnt_month'], axis=1)\n",
    "Y_valid = data[data.date_block_num == 33]['item_cnt_month']\n",
    "#X_test = data[data.date_block_num == 34].drop(['item_cnt_month'], axis=1)\n",
    "\n",
    "del data"
   ]
  },
  {
   "cell_type": "code",
   "execution_count": 3,
   "metadata": {},
   "outputs": [
    {
     "name": "stderr",
     "output_type": "stream",
     "text": [
      "D:\\Anaconda3\\lib\\site-packages\\xgboost\\core.py:587: FutureWarning: Series.base is deprecated and will be removed in a future version\n",
      "  if getattr(data, 'base', None) is not None and \\\n",
      "D:\\Anaconda3\\lib\\site-packages\\xgboost\\core.py:588: FutureWarning: Series.base is deprecated and will be removed in a future version\n",
      "  data.base is not None and isinstance(data, np.ndarray) \\\n"
     ]
    },
    {
     "name": "stdout",
     "output_type": "stream",
     "text": [
      "[20:34:21] WARNING: C:/Jenkins/workspace/xgboost-win64_release_0.90/src/objective/regression_obj.cu:152: reg:linear is now deprecated in favor of reg:squarederror.\n",
      "[20:34:22] WARNING: C:\\Jenkins\\workspace\\xgboost-win64_release_0.90\\src\\learner.cc:686: Tree method is automatically selected to be 'approx' for faster speed. To use old behavior (exact greedy algorithm on single machine), set tree_method to 'exact'.\n",
      "[0]\tvalidation_0-rmse:1.19032\n",
      "Will train until validation_0-rmse hasn't improved in 10 rounds.\n",
      "[1]\tvalidation_0-rmse:1.16082\n",
      "[2]\tvalidation_0-rmse:1.1362\n",
      "[3]\tvalidation_0-rmse:1.11472\n",
      "[4]\tvalidation_0-rmse:1.0897\n",
      "[5]\tvalidation_0-rmse:1.07674\n",
      "[6]\tvalidation_0-rmse:1.06113\n",
      "[7]\tvalidation_0-rmse:1.0494\n",
      "[8]\tvalidation_0-rmse:1.04424\n",
      "[9]\tvalidation_0-rmse:1.03894\n",
      "[10]\tvalidation_0-rmse:1.03257\n",
      "[11]\tvalidation_0-rmse:1.02615\n",
      "[12]\tvalidation_0-rmse:1.02201\n",
      "[13]\tvalidation_0-rmse:1.01962\n",
      "[14]\tvalidation_0-rmse:1.01619\n",
      "[15]\tvalidation_0-rmse:1.01341\n",
      "[16]\tvalidation_0-rmse:1.0125\n",
      "[17]\tvalidation_0-rmse:1.01322\n",
      "[18]\tvalidation_0-rmse:1.0113\n",
      "[19]\tvalidation_0-rmse:1.00903\n",
      "[20]\tvalidation_0-rmse:1.01135\n",
      "[21]\tvalidation_0-rmse:1.01233\n",
      "[22]\tvalidation_0-rmse:1.01298\n",
      "[23]\tvalidation_0-rmse:1.01557\n",
      "[24]\tvalidation_0-rmse:1.01596\n",
      "[25]\tvalidation_0-rmse:1.01609\n",
      "[26]\tvalidation_0-rmse:1.01893\n",
      "[27]\tvalidation_0-rmse:1.01771\n",
      "[28]\tvalidation_0-rmse:1.01645\n",
      "[29]\tvalidation_0-rmse:1.01922\n",
      "Stopping. Best iteration:\n",
      "[19]\tvalidation_0-rmse:1.00903\n",
      "\n"
     ]
    },
    {
     "data": {
      "text/plain": [
       "XGBRegressor(base_score=0.5, booster='gbtree', colsample_bylevel=1,\n",
       "       colsample_bynode=1, colsample_bytree=0.8, eta=0.3, gamma=0,\n",
       "       importance_type='gain', learning_rate=0.1, max_delta_step=0,\n",
       "       max_depth=8, min_child_weight=300, missing=None, n_estimators=1000,\n",
       "       n_jobs=1, nthread=None, objective='reg:linear', random_state=0,\n",
       "       reg_alpha=0, reg_lambda=1, scale_pos_weight=1, seed=42, silent=None,\n",
       "       subsample=0.8, verbosity=1)"
      ]
     },
     "execution_count": 3,
     "metadata": {},
     "output_type": "execute_result"
    }
   ],
   "source": [
    "from xgboost import XGBRegressor\n",
    "\n",
    "model = XGBRegressor(\n",
    "    max_depth=8,\n",
    "    n_estimators=1000,\n",
    "    min_child_weight=300, \n",
    "    colsample_bytree=0.8, \n",
    "    subsample=0.8, \n",
    "    eta=0.3,    \n",
    "    seed=42)\n",
    "\n",
    "model.fit(\n",
    "    X_train, \n",
    "    Y_train, \n",
    "    eval_metric=\"rmse\", \n",
    "    eval_set=[(X_valid, Y_valid)], \n",
    "    verbose=True, \n",
    "    early_stopping_rounds = 10)"
   ]
  },
  {
   "cell_type": "code",
   "execution_count": null,
   "metadata": {},
   "outputs": [],
   "source": []
  }
 ],
 "metadata": {
  "kernelspec": {
   "display_name": "Python 3",
   "language": "python",
   "name": "python3"
  },
  "language_info": {
   "codemirror_mode": {
    "name": "ipython",
    "version": 3
   },
   "file_extension": ".py",
   "mimetype": "text/x-python",
   "name": "python",
   "nbconvert_exporter": "python",
   "pygments_lexer": "ipython3",
   "version": "3.7.1"
  }
 },
 "nbformat": 4,
 "nbformat_minor": 2
}
